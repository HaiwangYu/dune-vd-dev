{
 "cells": [
  {
   "cell_type": "code",
   "execution_count": 154,
   "metadata": {},
   "outputs": [],
   "source": [
    "import bz2\n",
    "import copy\n",
    "import json\n",
    "import matplotlib.pyplot as plt\n",
    "import numpy as np\n",
    "%matplotlib qt"
   ]
  },
  {
   "cell_type": "code",
   "execution_count": 198,
   "metadata": {},
   "outputs": [],
   "source": [
    "filename = \"../protodune-noise-spectra-v1.json.bz2\"\n",
    "filename = \"../microboone-noise-spectra-v1.json.bz2\"\n",
    "wire_specs = json.loads(bz2.BZ2File(filename, 'r').read())\n",
    "\n",
    "def plot_wire_specs(wire_specs, planes=None):\n",
    "    plt.figure()\n",
    "\n",
    "    for i, wire_spec in enumerate(wire_specs) :\n",
    "        if planes is not None and wire_spec['plane'] not in planes:\n",
    "            continue\n",
    "        plt.plot(wire_spec['freqs'],wire_spec['amps'],label=wire_spec['wirelen'])\n",
    "\n",
    "    fontsize=24\n",
    "    plt.legend(loc='best', fontsize=20)\n",
    "    plt.grid()\n",
    "    plt.xlabel(\"frec\", fontsize=fontsize)\n",
    "    plt.ylabel(\"amp\", fontsize=fontsize)\n",
    "    plt.yticks(fontsize=fontsize)\n",
    "    plt.xticks(fontsize=fontsize)\n",
    "    plt.show()\n",
    "\n",
    "plot_wire_specs(wire_specs,[2])"
   ]
  },
  {
   "cell_type": "code",
   "execution_count": 183,
   "metadata": {},
   "outputs": [],
   "source": [
    "# capacitance pF/m\n",
    "capacitance_unit_pcb = [88, 88, 97] # (0,90), second number is a dummy\n",
    "capacitance_unit_pcb = [109, 83, 91] # (0, -48, 90)\n",
    "capacitance_unit_pcb = [100, 100, 79] # (30,-30,90)\n",
    "capacitance_unit_microboone = 18\n",
    "capacitance_unit_protodune  = 22\n",
    "\n",
    "capacitance_base_microboone = 40 # pF\n",
    "capacitance_base_protodune  = 40 # pF\n",
    "capacitance_base_pdb        = 40 # pF\n",
    "\n",
    "def wire_to_cap(wire_specs, unit_capacitance, base_capacitance) :\n",
    "    output = copy.deepcopy(wire_specs)\n",
    "    for i, wire_spec in enumerate(output) :\n",
    "        wire_spec['wirelen'] = wire_spec['wirelen']/1000.*unit_capacitance + base_capacitance\n",
    "    return output\n",
    "\n",
    "def cap_to_wire(wire_specs, unit_capacitance, base_capacitance) :\n",
    "    output = copy.deepcopy(wire_specs)\n",
    "    for i, wire_spec in enumerate(output) :\n",
    "        wire_spec['wirelen'] = (wire_spec['wirelen'] - base_capacitance)/unit_capacitance*1000.\n",
    "    return output\n",
    "\n",
    "def extend_len(input1, input2, target_length) :\n",
    "    print('extend_len', input1['wirelen'], input2['wirelen'], target_length)\n",
    "    output = copy.deepcopy(input1)\n",
    "    len_t1 = target_length - input1['wirelen']\n",
    "    len_21 = input2['wirelen'] - input1['wirelen']\n",
    "    if(len_21 == 0) :\n",
    "        raise Exception('len_21 == 0')\n",
    "    amps_o = np.asarray(output['amps'])\n",
    "    amps_1 = np.asarray(input1['amps'])\n",
    "    amps_2 = np.asarray(input2['amps'])\n",
    "    if(len(amps_2)!=len(amps_1)) :\n",
    "        raise Exception('len(amps_2)!=len(amps_1)')\n",
    "    amps_o = amps_o + len_t1/len_21*(amps_2-amps_1)\n",
    "    output['wirelen'] = target_length\n",
    "    output['amps'] = amps_o.tolist()\n",
    "    return output\n",
    "\n",
    "def update_plane_info(wire_specs, nsamples, plane) :\n",
    "    for i, wire_spec in enumerate(wire_specs) :\n",
    "        wire_spec['nsamples'] = nsamples\n",
    "        wire_spec['plane'] = plane\n",
    "\n",
    "# wire_specs_microboone[0]"
   ]
  },
  {
   "cell_type": "code",
   "execution_count": 201,
   "metadata": {},
   "outputs": [
    {
     "name": "stdout",
     "output_type": "stream",
     "text": [
      "extend_len 43.528 205.0 300\n",
      "105.12\n"
     ]
    }
   ],
   "source": [
    "wire_specs_microboone = json.loads(bz2.BZ2File(\"../microboone-noise-spectra-v1.json.bz2\", 'r').read())\n",
    "wire_specs_protodune  = json.loads(bz2.BZ2File(\"../protodune-noise-spectra-v1.json.bz2\", 'r').read())\n",
    "\n",
    "# only use plane U and W and remove dups for pdune\n",
    "wire_specs_microboone = [x for x in wire_specs_microboone if x['plane'] == 0 or x['plane'] == 2]\n",
    "wire_specs_protodune = [x for x in wire_specs_protodune \n",
    "                        if (x['plane'] == 0 and x['wirelen'] == 7500) \n",
    "                        or (x['plane'] == 2 and x['wirelen'] == 6000) ]\n",
    "\n",
    "wire_specs_cap_microboone = wire_to_cap(wire_specs_microboone, capacitance_unit_microboone, capacitance_base_microboone)\n",
    "wire_specs_cap_protodune = wire_to_cap(wire_specs_protodune, capacitance_unit_protodune, capacitance_base_protodune)\n",
    "wire_specs_cap = wire_specs_cap_microboone + wire_specs_cap_protodune\n",
    "wire_specs_cap.append(extend_len(wire_specs_cap[0], wire_specs_cap[-2], 300))\n",
    "wire_specs_pcb = []\n",
    "for plane, capacitance_unit in enumerate(capacitance_unit_pcb) :\n",
    "    tmp = cap_to_wire(wire_specs_cap, capacitance_unit, capacitance_base_pdb)\n",
    "    update_plane_info(tmp, nsamples=6000, plane=plane)\n",
    "    wire_specs_pcb = wire_specs_pcb + tmp\n",
    "\n",
    "plot_wire_specs(wire_specs_pcb[0:17])\n",
    "plot_wire_specs(wire_specs_pcb[17:34])\n",
    "plot_wire_specs(wire_specs_pcb[34:])\n",
    "print(wire_specs_pcb[18]['wirelen'])\n",
    "# print(wire_specs_cap[0]['nsamples'], wire_specs_cap[0]['plane'], wire_specs_cap[0]['wirelen'])\n",
    "# print(wire_specs_cap[14]['nsamples'], wire_specs_cap[14]['plane'], wire_specs_cap[14]['wirelen'])\n",
    "# print(wire_specs_cap[-1]['nsamples'], wire_specs_cap[-1]['plane'], wire_specs_cap[-1]['wirelen'])"
   ]
  },
  {
   "cell_type": "code",
   "execution_count": null,
   "metadata": {},
   "outputs": [],
   "source": []
  }
 ],
 "metadata": {
  "kernelspec": {
   "display_name": "Python 3",
   "language": "python",
   "name": "python3"
  },
  "language_info": {
   "codemirror_mode": {
    "name": "ipython",
    "version": 3
   },
   "file_extension": ".py",
   "mimetype": "text/x-python",
   "name": "python",
   "nbconvert_exporter": "python",
   "pygments_lexer": "ipython3",
   "version": "3.6.10"
  }
 },
 "nbformat": 4,
 "nbformat_minor": 4
}
